{
 "cells": [
  {
   "cell_type": "code",
   "execution_count": null,
   "id": "b5527c93",
   "metadata": {},
   "outputs": [],
   "source": [
    "def sum(a: float, b: float) -> str:\n",
    "    return a + b\n",
    "\n",
    "c = sum(2.3, 5)"
   ]
  },
  {
   "cell_type": "code",
   "execution_count": 13,
   "id": "d160960a",
   "metadata": {},
   "outputs": [],
   "source": [
    "def sum(a: float, b: float) -> str:\n",
    "    \"\"\"Add 2 numbers\n",
    "\n",
    "    Args:\n",
    "        a (float): first number\n",
    "        b (float): seconf number\n",
    "\n",
    "    Returns:\n",
    "        str: the sum of two numbers\n",
    "    \"\"\"\n",
    "    return str(a + b)\n",
    "\n",
    "c = sum(2.3, 5)"
   ]
  },
  {
   "cell_type": "code",
   "execution_count": null,
   "id": "e7bd2bfa",
   "metadata": {},
   "outputs": [],
   "source": [
    "c = sum(4.5,6.1)\n"
   ]
  },
  {
   "cell_type": "code",
   "execution_count": 29,
   "id": "753f32ac",
   "metadata": {},
   "outputs": [
    {
     "name": "stdout",
     "output_type": "stream",
     "text": [
      "6.28318\n"
     ]
    }
   ],
   "source": [
    "def multiply(a: int, b: float=3.14159) -> float:\n",
    "    \"\"\"Multiply 2 numbers\n",
    "\n",
    "    Args:\n",
    "        a (int): first number\n",
    "        b (float, optional): second number. Defaults to 3.14159.\n",
    "\n",
    "    Returns:\n",
    "        float: the product of two numbers\n",
    "    \"\"\"\n",
    "    return a * b\n",
    "\n",
    "result = multiply(2)\n",
    "\n",
    "print(result)"
   ]
  },
  {
   "cell_type": "markdown",
   "id": "abf9f010",
   "metadata": {},
   "source": [
    "A function calling another function"
   ]
  },
  {
   "cell_type": "code",
   "execution_count": 26,
   "id": "e0b9c327",
   "metadata": {},
   "outputs": [
    {
     "name": "stdout",
     "output_type": "stream",
     "text": [
      "(5.0, 15.70795)\n",
      "<class 'float'>\n"
     ]
    }
   ],
   "source": [
    "def complex(a: int, b: int) -> int:\n",
    "    c = float(sum(a, b))\n",
    "    d = multiply(c)\n",
    "    return c,d\n",
    "\n",
    "print(complex(2, 3))\n",
    "print(type(complex(2, 3)[0]))"
   ]
  },
  {
   "cell_type": "markdown",
   "id": "7fccecb0",
   "metadata": {},
   "source": [
    "Getting user input in Jupyter notebook"
   ]
  },
  {
   "cell_type": "code",
   "execution_count": 32,
   "id": "1825d95c",
   "metadata": {},
   "outputs": [],
   "source": [
    "a = input(\"Provide a number (NB: The input cell is at the top!):\")\n",
    "b = multiply(float(a))"
   ]
  }
 ],
 "metadata": {
  "kernelspec": {
   "display_name": ".venv",
   "language": "python",
   "name": "python3"
  },
  "language_info": {
   "codemirror_mode": {
    "name": "ipython",
    "version": 3
   },
   "file_extension": ".py",
   "mimetype": "text/x-python",
   "name": "python",
   "nbconvert_exporter": "python",
   "pygments_lexer": "ipython3",
   "version": "3.12.3"
  }
 },
 "nbformat": 4,
 "nbformat_minor": 5
}
