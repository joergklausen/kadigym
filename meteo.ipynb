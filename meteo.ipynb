{
 "cells": [
  {
   "cell_type": "markdown",
   "id": "69d2d45d",
   "metadata": {},
   "source": [
    "# Read and process meteo bulletins of type VRXA00\n",
    "\n",
    "1. Read file as text and print its content\n",
    "2. Read file into a Polars dataframe"
   ]
  },
  {
   "cell_type": "code",
   "execution_count": null,
   "id": "cc6251ee",
   "metadata": {},
   "outputs": [],
   "source": [
    "file_path = \"data/meteo/VRXA00.202310190530\"\n",
    "print(file_path)\n"
   ]
  },
  {
   "cell_type": "code",
   "execution_count": null,
   "id": "b1f34a40",
   "metadata": {},
   "outputs": [],
   "source": [
    "# Read file as text and print content\n",
    "with open(file=file_path) as fh:\n",
    "    file_content = fh.readlines()\n",
    "\n",
    "print(file_content)"
   ]
  },
  {
   "cell_type": "code",
   "execution_count": null,
   "id": "abbc5a4b",
   "metadata": {},
   "outputs": [],
   "source": [
    "header = file_content[3]\n",
    "print(header)"
   ]
  },
  {
   "cell_type": "code",
   "execution_count": null,
   "id": "2476e912",
   "metadata": {},
   "outputs": [],
   "source": [
    "header_list = header.split()\n",
    "print(\"list of header elements:\", header_list)"
   ]
  },
  {
   "cell_type": "markdown",
   "id": "4e6a2da6",
   "metadata": {},
   "source": [
    "Assignment:\n",
    "1. Extract the header element for temperature (tre200s0).\n",
    "2. Extract the corresponding temperature reading.\n",
    "3. Print the result as follows: _tre200s = 007.3 °C_"
   ]
  },
  {
   "cell_type": "code",
   "execution_count": null,
   "id": "11270925",
   "metadata": {},
   "outputs": [],
   "source": []
  },
  {
   "cell_type": "code",
   "execution_count": null,
   "id": "46e27e56",
   "metadata": {},
   "outputs": [],
   "source": [
    "import polars as pl\n",
    "df = pl.read_csv(\"data/file1.csv\")"
   ]
  }
 ],
 "metadata": {
  "kernelspec": {
   "display_name": ".venv",
   "language": "python",
   "name": "python3"
  },
  "language_info": {
   "codemirror_mode": {
    "name": "ipython",
    "version": 3
   },
   "file_extension": ".py",
   "mimetype": "text/x-python",
   "name": "python",
   "nbconvert_exporter": "python",
   "pygments_lexer": "ipython3",
   "version": "3.12.3"
  }
 },
 "nbformat": 4,
 "nbformat_minor": 5
}
